{
  "nbformat": 4,
  "nbformat_minor": 0,
  "metadata": {
    "colab": {
      "provenance": []
    },
    "kernelspec": {
      "name": "python3",
      "display_name": "Python 3"
    },
    "language_info": {
      "name": "python"
    }
  },
  "cells": [
    {
      "cell_type": "code",
      "execution_count": null,
      "metadata": {
        "id": "zjKiSbHxkrag"
      },
      "outputs": [],
      "source": [
        "#PREGUNTA 04\n",
        "n = int(input(\"Ingrese la ganancia de Pablito: \"))\n",
        "\n",
        "if n >= 0 and n <= 1000:\n",
        "    porcentaje = 0.05\n",
        "elif n >= 1001 and n <= 1500:\n",
        "    porcentaje = 0.07\n",
        "elif n >= 1501 and n <= 2000:\n",
        "    porcentaje = 0.08\n",
        "elif n >= 2001 and n <= 5000:\n",
        "    porcentaje = 0.1\n",
        "elif n >= 5001:\n",
        "    porcentaje = 0.15\n",
        "\n",
        "resultado = n * porcentaje\n",
        "print(\"El valor de la donacion sera:\", resultado)"
      ]
    }
  ]
}